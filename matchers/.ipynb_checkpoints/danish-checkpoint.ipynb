{
 "cells": [
  {
   "cell_type": "code",
   "execution_count": 1,
   "id": "1b71907d",
   "metadata": {},
   "outputs": [],
   "source": [
    "import pandas as pd\n",
    "import os\n",
    "import re"
   ]
  },
  {
   "cell_type": "code",
   "execution_count": 4,
   "id": "1abec839",
   "metadata": {},
   "outputs": [],
   "source": [
    "alltext=''\n",
    "file_names=['da/fullTweets']\n",
    "for j in file_names:\n",
    "    with open(os.getcwd()[:-8]+'langs/'+j) as text:\n",
    "        alltext=alltext+text.read()\n",
    "alltext_lower=''\n",
    "\n",
    "file_names=os.listdir(os.getcwd()[:-8]+'langs'+'/da/tweets/')\n",
    "for j in file_names:\n",
    "    with open(os.getcwd()[:-8]+'langs'+'/da/tweets/'+j) as text:\n",
    "        alltext=alltext+text.read()\n",
    "\n",
    "for i in alltext:\n",
    "    if i.isupper():\n",
    "        alltext_lower=alltext_lower+i.lower()\n",
    "    else:\n",
    "        alltext_lower=alltext_lower+i"
   ]
  },
  {
   "cell_type": "code",
   "execution_count": 19,
   "id": "08b6fd3e",
   "metadata": {
    "scrolled": true
   },
   "outputs": [],
   "source": [
    "tokenized=[]\n",
    "tokenized_strings=[]\n",
    "with open(os.getcwd()[:-8]+'multilexnorm/data/da/train.norm') as text:\n",
    "    temp_list=[]\n",
    "    temp_string=''\n",
    "    for i in text:\n",
    "        if i.strip()!='':\n",
    "            try:\n",
    "                temp_list.append(re.findall('.+\\t',i.strip())[0][:-1])\n",
    "                temp_string=temp_string+re.findall('.+\\t',i.strip())[0][:-1]+'omega_ts'\n",
    "            except:\n",
    "                temp_list.append(i.strip()[:-1])\n",
    "                temp_string=temp_string+i.strip()[:-1]+'omega_ts'\n",
    "        else:\n",
    "            tokenized.append(temp_list)\n",
    "            tokenized_strings.append(temp_string)\n",
    "            temp_list=[]\n",
    "            temp_string=''\n",
    "with open(os.getcwd()[:-8]+'multilexnorm/data/da/test.norm') as text:\n",
    "    temp_list=[]\n",
    "    temp_string=''\n",
    "    for i in text:\n",
    "        if i.strip()!='':\n",
    "            try:\n",
    "                temp_list.append(re.findall('.+\\t',i.strip())[0][:-1])\n",
    "                temp_string=temp_string+re.findall('.+\\t',i.strip())[0][:-1]+'omega_ts'\n",
    "            except:\n",
    "                temp_list.append(i.strip()[:-1])\n",
    "                temp_string=temp_string+i.strip()[:-1]+'omega_ts'\n",
    "        else:\n",
    "            tokenized.append(temp_list)\n",
    "            tokenized_strings.append(temp_string)\n",
    "            temp_list=[]\n",
    "            temp_string=''"
   ]
  },
  {
   "cell_type": "code",
   "execution_count": 20,
   "id": "0c3fa079",
   "metadata": {},
   "outputs": [
    {
     "data": {
      "text/plain": [
       "900"
      ]
     },
     "execution_count": 20,
     "metadata": {},
     "output_type": "execute_result"
    }
   ],
   "source": [
    "len(tokenized)"
   ]
  },
  {
   "cell_type": "code",
   "execution_count": 4,
   "id": "1edac8e4",
   "metadata": {},
   "outputs": [],
   "source": [
    "def lower_case(text):\n",
    "    new_text=''\n",
    "    for i in text:\n",
    "        if i.isupper():\n",
    "            new_text=new_text+i.lower()\n",
    "        else:\n",
    "            new_text=new_text+i\n",
    "    return new_text"
   ]
  },
  {
   "cell_type": "code",
   "execution_count": 5,
   "id": "cc185905",
   "metadata": {},
   "outputs": [],
   "source": [
    "def kill_symbols(text):\n",
    "    symbols=['.', '+', '*', '?', '^', '$', '(', ')', '[', ']', '{', '}', '|', '\\\\',';',':','',\"'\",'-','!']\n",
    "    new_token=''\n",
    "    for letter in text:\n",
    "        if letter in symbols:\n",
    "            new_token=new_token+'\\\\'+letter\n",
    "        else:\n",
    "            new_token=new_token+letter\n",
    "    return new_token"
   ]
  },
  {
   "cell_type": "code",
   "execution_count": 6,
   "id": "13c76ebb",
   "metadata": {},
   "outputs": [],
   "source": [
    "def cut_thing(j):\n",
    "    symbols=['.', '+', '*', '?', '^', '$', '(', ')', '[', ']', '{', '}', '|', '\\\\',';',':','',\"'\",'-','!']\n",
    "    last_token=j[0][-1]\n",
    "    count_of_last=-1\n",
    "    og_sent=j[1]\n",
    "    new_sent=lower_case(j[1])\n",
    "    if set(last_token) & set(symbols):\n",
    "        last_token=kill_symbols(last_token)\n",
    "    for unique in j[0]:\n",
    "            if re.search(last_token,unique):\n",
    "                count_of_last+=len([x for x in re.finditer(last_token,unique)])\n",
    "\n",
    "    positions=[x for x in re.finditer(last_token,new_sent)]\n",
    "    \n",
    "    cut_off=og_sent[:positions[count_of_last].span()[1]+1][:-1]\n",
    "    return cut_off"
   ]
  },
  {
   "cell_type": "code",
   "execution_count": 7,
   "id": "12eadebf",
   "metadata": {},
   "outputs": [],
   "source": [
    "def find_phrase(t_phrase, phrase):\n",
    "    symbols=['.', '+', '*', '?', '^', '$', '(', ')', '[', ']', '{', '}', '|', '\\\\',';',':','',\"'\",'-','!']\n",
    "    count=0\n",
    "    user_count=0\n",
    "    cont=0\n",
    "    cont_flag=1\n",
    "    same_flag=0\n",
    "    t_length=sum([len(x)+1 for x in t_phrase])\n",
    "    used_spans=[]\n",
    "    t0=kill_symbols(t_phrase[0])\n",
    "    t1=kill_symbols(t_phrase[1])\n",
    "\n",
    "    if re.search(t0,t1):\n",
    "        used_spans.append(re.search(t0, phrase).span()[0])\n",
    "        if re.search(t1,phrase):\n",
    "            if re.search(t1,phrase).span()[0] not in used_spans:\n",
    "                count+=1\n",
    "            \n",
    "    for token in t_phrase:\n",
    "        if set(token) & set(symbols):\n",
    "            token=kill_symbols(token)\n",
    "        if re.search(token, phrase):\n",
    "            if re.search(token, phrase).span()[0]>t_length:\n",
    "                cont_flag=0\n",
    "                cont=0\n",
    "            count=count+1+cont\n",
    "            cont+=1*cont_flag\n",
    "            \n",
    "    return count\n"
   ]
  },
  {
   "cell_type": "code",
   "execution_count": 8,
   "id": "d7a285e1",
   "metadata": {},
   "outputs": [],
   "source": [
    "symbols=['.', '+', '*', '?', '^', '$', '(', ')', '[', ']', '{', '}', '|', '\\\\',';',':','',\"'\",'-','!']\n",
    "counter=-1\n",
    "allcounts=[]\n",
    "matches=[]\n",
    "for t_phrase,t_string in zip(tokenized,tokenized_strings):\n",
    "    try:\n",
    "        lengths=[]\n",
    "        counter+=1\n",
    "        tokens=len(t_phrase)\n",
    "        found=0\n",
    "        first_token=t_phrase[0]\n",
    "        if set(first_token) & set(symbols):\n",
    "            first_token=kill_symbols(first_token)\n",
    "\n",
    "        possible_matches=[x for x in re.finditer(first_token,alltext_lower)]\n",
    "\n",
    "        first_places=[x.span()[0] for x in possible_matches]\n",
    "        possible_phrases=[alltext[x:x+560] for x in first_places]\n",
    "        possible_phrases_lower=[alltext_lower[x:x+560] for x in first_places]\n",
    "        counts=[]\n",
    "        if len(t_phrase)!=1:\n",
    "            for phrase in possible_phrases_lower:\n",
    "                number=find_phrase(t_phrase, phrase)\n",
    "                counts.append(number)\n",
    "                if number>=max(counts):\n",
    "                    try:\n",
    "                        lengths.append([len(cut_thing([t_phrase,phrase])),phrase,number])\n",
    "                    except:\n",
    "                        pass\n",
    "            lengths=[x for x in lengths if x[2]==max(counts)]\n",
    "            if counts!=[]:\n",
    "                if counts.count(max(counts))!=1:\n",
    "                    temp_len=[x[0] for x in lengths]\n",
    "                    min_index=temp_len.index(min(temp_len))\n",
    "                    matches.append([t_phrase,lengths[min_index][1],t_string])\n",
    "\n",
    "                else:         \n",
    "                    max_index=counts.index(max(counts))\n",
    "                    matches.append([t_phrase,possible_phrases[max_index],t_string])\n",
    "                    allcounts.append(max(counts))\n",
    "        else:\n",
    "            matches.append([t_phrase,possible_phrases[0],t_string])\n",
    "    except:\n",
    "        matches.append([t_phrase,'nothing found',t_string])"
   ]
  },
  {
   "cell_type": "code",
   "execution_count": 9,
   "id": "0172b2a7",
   "metadata": {},
   "outputs": [
    {
     "data": {
      "text/plain": [
       "236"
      ]
     },
     "execution_count": 9,
     "metadata": {},
     "output_type": "execute_result"
    }
   ],
   "source": [
    "len(matches)"
   ]
  },
  {
   "cell_type": "code",
   "execution_count": 10,
   "id": "71abc14f",
   "metadata": {},
   "outputs": [
    {
     "name": "stdout",
     "output_type": "stream",
     "text": [
      "[['det', 'gjorde', 'sku', 'ek', 'skolen', 'lettere', ',', 'jeg', 'sad', 'nogle', 'gange', 'og', 'om', 'natten', 'i', 'en', 'pude', 'pjask', 'vad', 'af', 'salte', 'tare', ',', 'det', 'var', 'hardt', 'RIGTIG', 'hardt', ',', 'og', 'lige', 'nu', 'jeg', 'snart', '15', 'ar', 'en', 'flot', 'ung', 'mand', '\"', 'som', 'min', 'mor', 'og', 'far', 'sir', '\"', 'rammer', 'det', 'hardt', 'jeg', 'har', 'sort', 'har', 'mørke', 'øjne', 'brun', 'hud', ',', 'laver', 'ek', 'de', 'samme', 'ting', 'som', 'mor', 'og', 'far', 'har', 'ikke', 'de', 'samme', 'karakter', 'traek', ',', 'osv', '.', 'osv', '.', 'nar', 'jeg', 'kigger', 'mig', 'i', 'spejlet', 'ser', 'jeg', 'ek', 'nogen', 'familie', 'ser', ',', 'en', 'lille', 'dreng', ',', 'med', 'øjne', 'presset', 'sammen', 'og', 'sir', '\"', 'szeretlek', 'szeretlek', 'mama', 'pappa', '\"', 'det', 'var', 'ek', 'en', 'almindelig', 'dreng', 'der', 'hedder', 'paul', 'med', 'traejen', 'nede', 'i', 'bukserne', 'der', 'leger', 'lego', ',', 'og', 'spiller', 'wow', ',', 'det', 'var', 'en', 'lille', 'ungarnsk', 'dreng', 'med', 'laset', 'tøj', 'og', 'rød', 'glødende', 'øjne', ',', 'og', 'den', 'lille', 'dreng', 'ganske', 'simpelhent', 'mig', '.'], 'nothing found', 'detomega_tsgjordeomega_tsskuomega_tsekomega_tsskolenomega_tslettereomega_ts,omega_tsjegomega_tssadomega_tsnogleomega_tsgangeomega_tsogomega_tsomomega_tsnattenomega_tsiomega_tsenomega_tspudeomega_tspjaskomega_tsvadomega_tsafomega_tssalteomega_tstareomega_ts,omega_tsdetomega_tsvaromega_tshardtomega_tsRIGTIGomega_tshardtomega_ts,omega_tsogomega_tsligeomega_tsnuomega_tsjegomega_tssnartomega_ts15omega_tsaromega_tsenomega_tsflotomega_tsungomega_tsmandomega_ts\"omega_tssomomega_tsminomega_tsmoromega_tsogomega_tsfaromega_tssiromega_ts\"omega_tsrammeromega_tsdetomega_tshardtomega_tsjegomega_tsharomega_tssortomega_tsharomega_tsmørkeomega_tsøjneomega_tsbrunomega_tshudomega_ts,omega_tslaveromega_tsekomega_tsdeomega_tssammeomega_tstingomega_tssomomega_tsmoromega_tsogomega_tsfaromega_tsharomega_tsikkeomega_tsdeomega_tssammeomega_tskarakteromega_tstraekomega_ts,omega_tsosvomega_ts.omega_tsosvomega_ts.omega_tsnaromega_tsjegomega_tskiggeromega_tsmigomega_tsiomega_tsspejletomega_tsseromega_tsjegomega_tsekomega_tsnogenomega_tsfamilieomega_tsseromega_ts,omega_tsenomega_tslilleomega_tsdrengomega_ts,omega_tsmedomega_tsøjneomega_tspressetomega_tssammenomega_tsogomega_tssiromega_ts\"omega_tsszeretlekomega_tsszeretlekomega_tsmamaomega_tspappaomega_ts\"omega_tsdetomega_tsvaromega_tsekomega_tsenomega_tsalmindeligomega_tsdrengomega_tsderomega_tshedderomega_tspaulomega_tsmedomega_tstraejenomega_tsnedeomega_tsiomega_tsbukserneomega_tsderomega_tslegeromega_tslegoomega_ts,omega_tsogomega_tsspilleromega_tswowomega_ts,omega_tsdetomega_tsvaromega_tsenomega_tslilleomega_tsungarnskomega_tsdrengomega_tsmedomega_tslasetomega_tstøjomega_tsogomega_tsrødomega_tsglødendeomega_tsøjneomega_ts,omega_tsogomega_tsdenomega_tslilleomega_tsdrengomega_tsganskeomega_tssimpelhentomega_tsmigomega_ts.omega_ts']\n",
      "[['\"', 'Klimapolitikken', 'skal', 'baseres', 'på', 'viden', 'og', 'erfaring', '-', 'ikke', 'på', 'frygt', 'og', 'følelser', '.', '\"', 'I', 'modsætning', 'til', 'udlændingepolitikken', '.', '…', 'https://t.co/p8AxrIaYSG'], 'nothing found', '\"omega_tsKlimapolitikkenomega_tsskalomega_tsbaseresomega_tspåomega_tsvidenomega_tsogomega_tserfaringomega_ts-omega_tsikkeomega_tspåomega_tsfrygtomega_tsogomega_tsfølelseromega_ts.omega_ts\"omega_tsIomega_tsmodsætningomega_tstilomega_tsudlændingepolitikkenomega_ts.omega_ts…omega_tshttps://t.co/p8AxrIaYSGomega_ts']\n",
      "[['\"', 'Hadprædikant', 'Paludans', 'iscenesættende', 'afbrænding', 'af', 'koraner', 'er', 'en', 'hadefuld', 'handling', ',', 'som', 'indeholder', 'en', 'trussel', 'og', 'indvarsler', 'vold', 'mod', 'herboende', 'muslimer', '.', '-', 'Handlingen', 'har', 'ikke', 'noget', 'med', '...', 'https://t.co/fQMz6Io7l1'], 'nothing found', '\"omega_tsHadprædikantomega_tsPaludansomega_tsiscenesættendeomega_tsafbrændingomega_tsafomega_tskoraneromega_tseromega_tsenomega_tshadefuldomega_tshandlingomega_ts,omega_tssomomega_tsindeholderomega_tsenomega_tstrusselomega_tsogomega_tsindvarsleromega_tsvoldomega_tsmodomega_tsherboendeomega_tsmuslimeromega_ts.omega_ts-omega_tsHandlingenomega_tsharomega_tsikkeomega_tsnogetomega_tsmedomega_ts...omega_tshttps://t.co/fQMz6Io7l1omega_ts']\n",
      "[['\"', 'Trump', 'en', 'racistisk', 'tåbe', '\"', 'Nyt', 'sygt', 'tweet', 'fra', 'USAs', 'præsident', 'opfordrer', 'farvede', 'kongresvalgte', 'unge', 'kvinder', '\"', 'til', 'at', 'rejse', 'hjem', '\"', '...', '[', 'https://t.co/yhtV42Ereu', ']', 'Det', 'har', '(', 'heldigvis', ')', 'rejst', 'en', 'hidtil', 'uset', 'storm', 'mod', 'Trump', '...', 'https://t.co/lihcZcM4Qk'], 'nothing found', '\"omega_tsTrumpomega_tsenomega_tsracistiskomega_tståbeomega_ts\"omega_tsNytomega_tssygtomega_tstweetomega_tsfraomega_tsUSAsomega_tspræsidentomega_tsopfordreromega_tsfarvedeomega_tskongresvalgteomega_tsungeomega_tskvinderomega_ts\"omega_tstilomega_tsatomega_tsrejseomega_tshjemomega_ts\"omega_ts...omega_ts[omega_tshttps://t.co/yhtV42Ereuomega_ts]omega_tsDetomega_tsharomega_ts(omega_tsheldigvisomega_ts)omega_tsrejstomega_tsenomega_tshidtilomega_tsusetomega_tsstormomega_tsmodomega_tsTrumpomega_ts...omega_tshttps://t.co/lihcZcM4Qkomega_ts']\n",
      "4\n"
     ]
    }
   ],
   "source": [
    "counter=0\n",
    "for i in matches:\n",
    "    if i[1]=='nothing found':\n",
    "        print(i)\n",
    "        counter+=1\n",
    "print(counter)"
   ]
  },
  {
   "cell_type": "code",
   "execution_count": 11,
   "id": "c9159dbc",
   "metadata": {},
   "outputs": [
    {
     "name": "stdout",
     "output_type": "stream",
     "text": [
      "[['uhh', ';', 'P'], 'uhh ;P\\n\\n  Nu er der tid til final.......\\n\\n  Den var sa sørgelig..\\nJeg havde lyst til at draebe min søster, fordi hun fik mig til at laese den v.v ..\\nJeg lavede endda et slideshow med den, fordi, jeg havde ondt i hjertet af at taenke pa den...\\n\\nI will never let you go <3\\n\\n  I will never let you go <3\\n\\n  I will never let you go <3   Hvor er den fin.\\n^^\\n\\n  I will never let you go <3\\n\\n  Alder : 1 ar Race : 75% Amsfaff Og 25% Pit-bull = Kraeftig hund.\\n\\n  Alder : ½ ar Race : 50% Amstaff, 50% King Corso = Stor Hund\\n\\n  Jeg er ham fra KISS?\\n\\n  Micheal du betyder ', 'uhhomega_ts;omega_tsPomega_ts']\n",
      "[['📍', 'Der', 'er', 'meget', 'jeg', 'ikke', 'ved', 'noget', 'om', '...', '📍', 'MEN', 'jeg', 'ved', 'udemærket', ',', 'at', 'frygt', 'har', 'sine', 'grunde', ',', 'primært', 'de', 'tanker', 'og', 'fordomme', 'vi', 'vælger', 'at', 'entertaine', '‼', '️', '📍', 'Jeg', 'er', 'ikke', 'dit', 'barn', ',', 'jeg', 'er', 'heller', 'ikke', 'noget', 'barn', ',', 'men', 'hvis', 'du', 'vil', 'kalde', 'en', 'nypensionist', 'et', 'barn', ',', 'er', 'det', 'mest', 'en', 'kompliment', '‼', '️', '…', 'https://t.co/16EdMONKDJ'], '📍Der er meget jeg ikke ved noget om...     📍MEN jeg ved udemærket, at frygt har sine grunde, primært de tanker og fordomme vi vælger at entertaine‼️    📍Jeg er ikke dit barn, jeg er heller ikke noget barn, men hvis du vil kalde en nypensionist et barn, er det mest en kompliment‼️… https://t.co/16EdMONKDJ\\n@twhjerne Så som flæskesvær, dyrepoliti, kærlighed til dannebrog og bedre ældrepleje? 😊\\n@nannasoph efter at have hørt Brøndbylyd med NF, der blev min frygt for hans kommunikative evner og hans udstråling, skud helt i bund. Hold kæft jeg glæder mig 🙏💙💛 de', '📍omega_tsDeromega_tseromega_tsmegetomega_tsjegomega_tsikkeomega_tsvedomega_tsnogetomega_tsomomega_ts...omega_ts📍omega_tsMENomega_tsjegomega_tsvedomega_tsudemærketomega_ts,omega_tsatomega_tsfrygtomega_tsharomega_tssineomega_tsgrundeomega_ts,omega_tsprimærtomega_tsdeomega_tstankeromega_tsogomega_tsfordommeomega_tsviomega_tsvælgeromega_tsatomega_tsentertaineomega_ts‼omega_ts️omega_ts📍omega_tsJegomega_tseromega_tsikkeomega_tsditomega_tsbarnomega_ts,omega_tsjegomega_tseromega_tshelleromega_tsikkeomega_tsnogetomega_tsbarnomega_ts,omega_tsmenomega_tshvisomega_tsduomega_tsvilomega_tskaldeomega_tsenomega_tsnypensionistomega_tsetomega_tsbarnomega_ts,omega_tseromega_tsdetomega_tsmestomega_tsenomega_tskomplimentomega_ts‼omega_ts️omega_ts…omega_tshttps://t.co/16EdMONKDJomega_ts']\n",
      "[['26', '-', 'årige', 'Nicolaj', 'Thomsen', 'kalder', 'sin', 'situation', 'i', '@FCKobenhavn', 'uholdbar', 'og', 'lægger', 'ikke', 'skjul', 'på', 'sin', 'kærlighed', 'til', '@aabsportdk', 'Ståle', 'Solbakken', 'vil', 'ikke', 'afvise', ',', 'at', 'der', 'kan', 'ske', 'noget', 'til', 'januar', '.', '#sldk', 'https://t.co/iU68qnhYs6'], '26-årige Nicolaj Thomsen kalder sin situation i @FCKobenhavn uholdbar og lægger ikke skjul på sin kærlighed til @aabsportdk   Ståle Solbakken vil ikke afvise, at der kan ske noget til januar. #sldk  https://t.co/iU68qnhYs6\\nOg at det kan tage nogen tid før man bliver opmærksom på at ens ønsker for en anden og bedre form for kærlighed ikke er fantasi, at ens ønsker blot er normale men netop føles vilde fordi man har ladet sig nøjes. Han fortalte at han nu søgte en bedre kærlighed og at han nu ved ⬇️\\nJeg elsker dig så meget, at mit hjerte kan briste af kærl', '26omega_ts-omega_tsårigeomega_tsNicolajomega_tsThomsenomega_tskalderomega_tssinomega_tssituationomega_tsiomega_ts@FCKobenhavnomega_tsuholdbaromega_tsogomega_tslæggeromega_tsikkeomega_tsskjulomega_tspåomega_tssinomega_tskærlighedomega_tstilomega_ts@aabsportdkomega_tsStåleomega_tsSolbakkenomega_tsvilomega_tsikkeomega_tsafviseomega_ts,omega_tsatomega_tsderomega_tskanomega_tsskeomega_tsnogetomega_tstilomega_tsjanuaromega_ts.omega_ts#sldkomega_tshttps://t.co/iU68qnhYs6omega_ts']\n",
      "[['🚨', 'SØGER', 'til', 'min', 'afsluttende', 'semesteropgave', 'på', '@DMJX', 'en', 'person', 'til', 'interview', ',', 'der', 'har', 'været', 'afhængig', '/', 'besat', 'af', 'kærlighed', '/', 'en', 'kæreste', 'og', 'som', 'i', 'en', 'periode', 'har', 'prioriteret', 'det', 'over', 'alt', 'andet', 'f.eks', '.', 'venner', '/', 'familie', 'el.lign', '.', 'Er', 'det', 'dig', ',', 'vil', 'jeg', 'gerne', 'høre', 'fra', 'dig', '!', '#twitterhjerne', '…', 'https://t.co/h0NrwRmGgV'], '🚨 SØGER til min afsluttende semesteropgave på @DMJX en person til interview, der har været afhængig/besat af kærlighed/en kæreste og som i en periode har prioriteret det over alt andet f.eks. venner/familie el.lign. Er det dig, vil jeg gerne høre fra dig! #twitterhjerne… https://t.co/h0NrwRmGgV\\ndig til en højaktuel komisk klassiker iscenesat af Nikolaj Cederholm.\\ner jeg lige kommet hjem fra en rigtig dejlig danseforestilling i Kbh.\\nJeg spørger bare. Det er jo efterhånden ikke til at vide. Om du er sjov, for sjov, dum eller udvidende og uvirkelig - eller ', '🚨omega_tsSØGERomega_tstilomega_tsminomega_tsafsluttendeomega_tssemesteropgaveomega_tspåomega_ts@DMJXomega_tsenomega_tspersonomega_tstilomega_tsinterviewomega_ts,omega_tsderomega_tsharomega_tsværetomega_tsafhængigomega_ts/omega_tsbesatomega_tsafomega_tskærlighedomega_ts/omega_tsenomega_tskæresteomega_tsogomega_tssomomega_tsiomega_tsenomega_tsperiodeomega_tsharomega_tsprioriteretomega_tsdetomega_tsoveromega_tsaltomega_tsandetomega_tsf.eksomega_ts.omega_tsvenneromega_ts/omega_tsfamilieomega_tsel.lignomega_ts.omega_tsEromega_tsdetomega_tsdigomega_ts,omega_tsvilomega_tsjegomega_tsgerneomega_tshøreomega_tsfraomega_tsdigomega_ts!omega_ts#twitterhjerneomega_ts…omega_tshttps://t.co/h0NrwRmGgVomega_ts']\n",
      "[['stiftendk', ':', 'Den', 'ukendte', 'århusianer', ',', 'som', 'vil', 'afløse', 'Uffe', 'Elbæk', ':', 'Jeg', 'stiller', 'ikke', 'op', 'for', 'sjov', '(', 'Dette', 'er', 'en', 'plus-artikel', ')', 'https://t.co/SmK2tv6NX1'], 'stiftendk: Den ukendte århusianer, som vil afløse Uffe Elbæk: Jeg stiller ikke op for sjov (Dette er en plus-artikel) https://t.co/SmK2tv6NX1\\nEr det mon af frygt for atvloce lukket ned af de facto mediecheferne i DF at de giver så meget taletid til højreekstremister?… https://t.co/TD5BFU8Gnb\\nJeg har vistnok noget team-sjov på arbejdet den dag, så jeg er næppe synderlig begavet at høre på omkring klokken 19. Men så må der kunne findes en erstatning!… https://t.co/BXyyQK4SIh\\nKald mig Cupid!jeg tror på kærlighed!&amp;jeg ha&#39;set,hvordan i afklæder hinand', 'stiftendkomega_ts:omega_tsDenomega_tsukendteomega_tsårhusianeromega_ts,omega_tssomomega_tsvilomega_tsafløseomega_tsUffeomega_tsElbækomega_ts:omega_tsJegomega_tsstilleromega_tsikkeomega_tsopomega_tsforomega_tssjovomega_ts(omega_tsDetteomega_tseromega_tsenomega_tsplus-artikelomega_ts)omega_tshttps://t.co/SmK2tv6NX1omega_ts']\n",
      "[['alle', 'mænd', ',', 'der', 'siger', '#IkkeAlleMænd', 'når', 'kvinder', 'nævner', 'deres', 'generaliserede', 'frygt', 'for', 'mænd', 'pga', 'af', 'deres', 'oplevelser', 'med', 'Nogle', 'Mænd', ',', 'er', 'en', 'del', 'af', 'det', 'problem', ',', 'der', 'gør', 'det', 'umuligt', 'for', 'kvinder', 'at', 'få', 'lov', 'at', 'tale', 'om', 'deres', 'frygt', 'for', 'Alle', 'Mænd', ',', 'som', 'er', 'opstået', 'pga', 'af', 'Nogle', 'Mænd', '.', '->', '…', 'https://t.co/fcSoDlqvPk'], 'alle mænd, der siger #IkkeAlleMænd når kvinder nævner deres generaliserede frygt for mænd pga af deres oplevelser med Nogle Mænd, er en del af det problem, der gør det umuligt for kvinder at få lov at tale om deres frygt for Alle Mænd, som er opstået pga af Nogle Mænd. -&gt;… https://t.co/fcSoDlqvPk\\nNogle brugere har kritiseret DR for dækningen af den frygt, nogle har for en sundhedsfare ved 5G-nettet. Et par klagere har bedt mig tage stilling. De får ikke medhold.   https://t.co/RSTCKwHrBV #dkpol #dkmedier\\nDet kender jeg ikke datagrundlaget godt nok til', 'alleomega_tsmændomega_ts,omega_tsderomega_tssigeromega_ts#IkkeAlleMændomega_tsnåromega_tskvinderomega_tsnævneromega_tsderesomega_tsgeneraliseredeomega_tsfrygtomega_tsforomega_tsmændomega_tspgaomega_tsafomega_tsderesomega_tsoplevelseromega_tsmedomega_tsNogleomega_tsMændomega_ts,omega_tseromega_tsenomega_tsdelomega_tsafomega_tsdetomega_tsproblemomega_ts,omega_tsderomega_tsgøromega_tsdetomega_tsumuligtomega_tsforomega_tskvinderomega_tsatomega_tsfåomega_tslovomega_tsatomega_tstaleomega_tsomomega_tsderesomega_tsfrygtomega_tsforomega_tsAlleomega_tsMændomega_ts,omega_tssomomega_tseromega_tsopståetomega_tspgaomega_tsafomega_tsNogleomega_tsMændomega_ts.omega_ts->omega_ts…omega_tshttps://t.co/fcSoDlqvPkomega_ts']\n",
      "[['2020', 'blir', 'IGEN', 'året', 'hvor', '#syge', 'Kont.', 'hjælpmodtager', '&', '/', 'el.', 'syge', 'borgere', 'IKKE', 'vil', 'sætte', '#børn', 'i', 'verden', 'dels', 'pga.', 'sygdomforløb', 'og', 'dels', '#FRYGT', 'for', 'MERE', '#kommunal', '#kontrol', ',', '#overvågning', 'og', '#mistro', '.', 'Hvornår', 'får', 'borgere', ',', 'der', 'uheldigvis', 'er', 'blevet', 'syge', ',', 'lov', 'til', 'at', 'være', '#MENNESKER', '?', '#dkpol', '…', 'https://t.co/XThrpN2vaj'], '2020 blir IGEN året hvor #syge Kont.hjælpmodtagere &amp;/el. syge borgere IKKE vil sætte #børn i verden dels pga. sygdomforløb og dels #FRYGT for MERE #kommunal #kontrol, #overvågning og #mistro. Hvornår får borgere, der uheldigvis er blevet syge, lov til at være #MENNESKER?   #dkpol… https://t.co/XThrpN2vaj\\nJow jow, men ikke desto mindre er den overvejende del af det du prædiker som værende en del af din substans både racistisk og løgnagtig. Nu vel, det er jo kun noget jeg føler og ikke kan bevise, så her er vi to lige ilde stedt 😳🙃… https://t.co/7tmzQn', '2020omega_tsbliromega_tsIGENomega_tsåretomega_tshvoromega_ts#sygeomega_tsKont.omega_tshjælpmodtageromega_ts&omega_ts/omega_tsel.omega_tssygeomega_tsborgereomega_tsIKKEomega_tsvilomega_tssætteomega_ts#børnomega_tsiomega_tsverdenomega_tsdelsomega_tspga.omega_tssygdomforløbomega_tsogomega_tsdelsomega_ts#FRYGTomega_tsforomega_tsMEREomega_ts#kommunalomega_ts#kontrolomega_ts,omega_ts#overvågningomega_tsogomega_ts#mistroomega_ts.omega_tsHvornåromega_tsfåromega_tsborgereomega_ts,omega_tsderomega_tsuheldigvisomega_tseromega_tsblevetomega_tssygeomega_ts,omega_tslovomega_tstilomega_tsatomega_tsværeomega_ts#MENNESKERomega_ts?omega_ts#dkpolomega_ts…omega_tshttps://t.co/XThrpN2vajomega_ts']\n",
      "[['👍', 'og', 'jeg', 'ved', 'godt', ',', 'jeg', 'er', 'for', 'tyk', ',', 'men', 'har', 'jeg', 'lyst', 'til', 'en', 'chokolade-bar', ',', 'så', 'spiser', 'jeg', 'sgu', 'en', 'chokolade-bar', '-', 'og', 'laver', 'sjov', 'med', 'min', 'vægt', 'som', 'nu', 'i', 'dag', ',', 'hvor', 'en', 'hval', 'strandede', 'ved', 'Skagen', ',', 'og', 'jeg', 'lavede', 'opslag', 'på', 'FB', 'om', 'at', 'jeg', 'altså', 'sidder', 'i', 'Aalborg', '.', '…', 'https://t.co/JTjiussDS8'], '👍og jeg ved godt, jeg er for tyk, men har jeg lyst til en chokolade-bar, så spiser jeg sgu en chokolade-bar - og laver sjov med min vægt som nu i dag, hvor en hval strandede ved Skagen, og jeg lavede opslag på FB om at jeg altså sidder i Aalborg.… https://t.co/JTjiussDS8\\nSelv fremtrædende borgerretsforkæmpere brugte ordet negro, det var det det hed før man begyndte at bruge ordet sort. Så nej, det har ikke altid været racistisk.. Jeg tror du tænker på det andet n-ord.… https://t.co/xWJJxgiibF\\nHvis jeg ikke ser overrasket ud, har jeg enten fået skudt ansi', '👍omega_tsogomega_tsjegomega_tsvedomega_tsgodtomega_ts,omega_tsjegomega_tseromega_tsforomega_tstykomega_ts,omega_tsmenomega_tsharomega_tsjegomega_tslystomega_tstilomega_tsenomega_tschokolade-baromega_ts,omega_tssåomega_tsspiseromega_tsjegomega_tssguomega_tsenomega_tschokolade-baromega_ts-omega_tsogomega_tslaveromega_tssjovomega_tsmedomega_tsminomega_tsvægtomega_tssomomega_tsnuomega_tsiomega_tsdagomega_ts,omega_tshvoromega_tsenomega_tshvalomega_tsstrandedeomega_tsvedomega_tsSkagenomega_ts,omega_tsogomega_tsjegomega_tslavedeomega_tsopslagomega_tspåomega_tsFBomega_tsomomega_tsatomega_tsjegomega_tsaltsåomega_tssidderomega_tsiomega_tsAalborgomega_ts.omega_ts…omega_tshttps://t.co/JTjiussDS8omega_ts']\n",
      "[['»', 'Folk', 'mener', 'ikke', ',', 'at', 'porno', 'har', 'nogen', 'værdi', '«', ':', 'Mystisk', 'canadisk', 'firma', 'har', 'opkøbt', 'store', 'dele', 'af', 'pornobranchen', 'og', 'skaber', 'nu', 'frygt', 'med', 'sine', 'spændstige', 'muskler', 'Én', 'virksomhed', 'er', 'umulig', 'at', 'komme', 'uden', 'om', ',', 'hvis', 'man', 'vil', 'forstå', 'pornobranchen', 'i', 'dag', '.', 'Men', 'kun', 'få', 'kender', '…', 'https://t.co/ZWLjCA03RV'], '»Folk mener ikke, at porno har nogen værdi«: Mystisk canadisk firma har opkøbt store dele af pornobranchen og skaber nu frygt med sine spændstige muskler Én virksomhed er umulig at komme uden om, hvis man vil forstå pornobranchen i dag. Men kun få kender… https://t.co/ZWLjCA03RV\\nMan skal fandme være et sørgeligt og kedeligt menneske for at skænde gravstene for sjov. Helt ærligt. 🙄\\nDet er som sagt ikke umuligt at tænke, at RP agerer &#39;hare&#39; for den højrefløj i DK, der naturligvis i valgkampens øjemed klart tager afstand fra denne rabiate provokatør', '»omega_tsFolkomega_tsmeneromega_tsikkeomega_ts,omega_tsatomega_tspornoomega_tsharomega_tsnogenomega_tsværdiomega_ts«omega_ts:omega_tsMystiskomega_tscanadiskomega_tsfirmaomega_tsharomega_tsopkøbtomega_tsstoreomega_tsdeleomega_tsafomega_tspornobranchenomega_tsogomega_tsskaberomega_tsnuomega_tsfrygtomega_tsmedomega_tssineomega_tsspændstigeomega_tsmuskleromega_tsÉnomega_tsvirksomhedomega_tseromega_tsumuligomega_tsatomega_tskommeomega_tsudenomega_tsomomega_ts,omega_tshvisomega_tsmanomega_tsvilomega_tsforståomega_tspornobranchenomega_tsiomega_tsdagomega_ts.omega_tsMenomega_tskunomega_tsfåomega_tskenderomega_ts…omega_tshttps://t.co/ZWLjCA03RVomega_ts']\n",
      "[['ffs', 'forstår', 'du', 'ikke', ',', 'du', 'skal', 'bare', 'læse', 'i', 'mellem', 'linjerne', ',', 'at', 'denne', 'sæson', 'er', 'der', 'flere', \"gc'er\", 'end', 'sæson', 'gc', 'og', 'det', 'med', 'love', 'the', 'titles', 'det', 'var', 'for', 'sjov', ',', 'de', 'er', 'ubrugelige', '…', 'https://t.co/S9syHnSr4B'], 'ffs forstår du ikke, du skal bare læse i mellem linjerne, at denne sæson er der flere gc&#39;er end sæson gc  og det med love the titles det var for sjov, de er ubrugelige… https://t.co/S9syHnSr4B\\nOplevede lige en sjov moden DSB ansat. Hun skulle tjekke mit rejsekort, så ville hendes håndscanner ikke læse kortet. Så sagde jeg håber ikke jeg holder kortet forkert, nej nej svarede hun. Toget køre bare af helevede til, ligesom resten af DSB, sagde hun. #twitterhjerne #dkpol\\nMen hvis det nu var Benjamin Mendy der havde lagt et billede op af en tegnefilmsfigu', \"ffsomega_tsforståromega_tsduomega_tsikkeomega_ts,omega_tsduomega_tsskalomega_tsbareomega_tslæseomega_tsiomega_tsmellemomega_tslinjerneomega_ts,omega_tsatomega_tsdenneomega_tssæsonomega_tseromega_tsderomega_tsflereomega_tsgc'eromega_tsendomega_tssæsonomega_tsgcomega_tsogomega_tsdetomega_tsmedomega_tsloveomega_tstheomega_tstitlesomega_tsdetomega_tsvaromega_tsforomega_tssjovomega_ts,omega_tsdeomega_tseromega_tsubrugeligeomega_ts…omega_tshttps://t.co/S9syHnSr4Bomega_ts\"]\n",
      "[['.', 'Gnavpot', '2', 'ved', 'du', ',', 'at', 'der', 'idag', 'faktisk', 'er', 'flere', 'danske', 'lastbiler', ',', 'der', 'kører', 'over', 'grænsen', 'end', 'i', '2009', '?', 'Tjek', 'Vejdirektoratets', 'tal', ':', 'østeuropæere', 'erobrer', 'markedsandele', 'fra', 'tyskere', 'og', 'andre', 'EU-landes', 'chauffører', '.', 'Men', 'stadig', 'meget', 'lille', 'del', 'af', 'total', 'transport', 'i', 'DK', '.', 'Så', 'drop', 'frygt', '#dkpol', '…', 'https://t.co/JMyZsUm7Zy'], '.Gnavpot2 ved du, at der idag faktisk er flere danske lastbiler, der kører over grænsen end i 2009? Tjek Vejdirektoratets tal: østeuropæere erobrer markedsandele fra tyskere og andre EU-landes chauffører. Men stadig meget lille del af total transport i DK. Så drop frygt #dkpol… https://t.co/JMyZsUm7Zy\\nFuldstændig rigtig. Det samme. Med en lille forskel. Børn er så en intens følelse, pga kærligheden at man skal passe meget på ikke at dele det med alle andre. For de føler nok en glæde ved ens barn men ikke kærlighed. Den første interesse i livet = dybfølt ', '.omega_tsGnavpotomega_ts2omega_tsvedomega_tsduomega_ts,omega_tsatomega_tsderomega_tsidagomega_tsfaktiskomega_tseromega_tsflereomega_tsdanskeomega_tslastbileromega_ts,omega_tsderomega_tskøreromega_tsoveromega_tsgrænsenomega_tsendomega_tsiomega_ts2009omega_ts?omega_tsTjekomega_tsVejdirektoratetsomega_tstalomega_ts:omega_tsøsteuropæereomega_tserobreromega_tsmarkedsandeleomega_tsfraomega_tstyskereomega_tsogomega_tsandreomega_tsEU-landesomega_tschaufføreromega_ts.omega_tsMenomega_tsstadigomega_tsmegetomega_tslilleomega_tsdelomega_tsafomega_tstotalomega_tstransportomega_tsiomega_tsDKomega_ts.omega_tsSåomega_tsdropomega_tsfrygtomega_ts#dkpolomega_ts…omega_tshttps://t.co/JMyZsUm7Zyomega_ts']\n",
      "[['“', 'En', 'klassisk', 'GF', '”', '-', 'skal', 'vi', 'ikke', 'sende', 'lidt', 'kærlighed', 'afsted', 'til', 'Henrik', 'Ole', 'for', 'noget', 'der', 'blev', 'opfundet', 'af', 'Åkeby', 'og', 'Stiften', 'i', '2003', 'og', 'var', 'en', 'stående', 'joke', 'blandt', 'fans', 'i', '21', 'minutter', 'efterfølgende', '❤', 'Vi', 'elsker', 'dig', 'Henrik', 'Ole', '#ultratwitteragf', '…', 'https://t.co/dnoFSp1EiR'], '“En klassisk GF” - skal vi ikke sende lidt kærlighed afsted til Henrik Ole for noget der blev opfundet af Åkeby og Stiften i 2003 og var en stående joke blandt fans i 21 minutter efterfølgende ❤️  Vi elsker dig Henrik Ole   #ultratwitteragf… https://t.co/dnoFSp1EiR\\nDet er måske ikke den største overraskelse, at en mand der mener at samtykkebaseret voldtægtslovgivning er noget farligt pjat, ikke forstår at han skal stoppe med at skrive til mig når jeg siger han skal lade være.\\nLiverpool nægtede i går at træne på Camp Nou i frygt for at blive udspioneret a', '“omega_tsEnomega_tsklassiskomega_tsGFomega_ts”omega_ts-omega_tsskalomega_tsviomega_tsikkeomega_tssendeomega_tslidtomega_tskærlighedomega_tsafstedomega_tstilomega_tsHenrikomega_tsOleomega_tsforomega_tsnogetomega_tsderomega_tsblevomega_tsopfundetomega_tsafomega_tsÅkebyomega_tsogomega_tsStiftenomega_tsiomega_ts2003omega_tsogomega_tsvaromega_tsenomega_tsståendeomega_tsjokeomega_tsblandtomega_tsfansomega_tsiomega_ts21omega_tsminutteromega_tsefterfølgendeomega_ts❤omega_tsViomega_tselskeromega_tsdigomega_tsHenrikomega_tsOleomega_ts#ultratwitteragfomega_ts…omega_tshttps://t.co/dnoFSp1EiRomega_ts']\n",
      "[['jeg', 'er', 'træt', 'af', 'GoT', ',', 'jeg', 'synes', 'ikke', 'Tyrion', 'er', 'sjov', 'længere', ',', 'jeg', 'synes', 'Daenaerys', 'er', 'meget', 'mindre', 'klog', 'og', 'sej', 'end', 'hun', 'plejede', 'at', 'være', ',', 'og', 'jeg', 'kan', 'ikke', 'komme', 'mig', 'over', 'at', 'The', 'White', 'Walkers', 'bare', 'var', 'en', 'plotdevice', 'for', 'at', 'sætte', 'hende', 'ligeligt', 'op', 'mod', 'Cersei', '-', 'og', 'Euron', 'som', 'jeg', 'ikke', 'magter', '…', 'https://t.co/7l1DsA5dRG'], 'jeg er træt af GoT, jeg synes ikke Tyrion er sjov længere, jeg synes Daenaerys er meget mindre klog og sej end hun plejede at være, og jeg kan ikke komme mig over at The White Walkers bare var en plotdevice for at sætte hende ligeligt op mod Cersei - og Euron som jeg ikke magter… https://t.co/7l1DsA5dRG\\nValget Indefra: LA-profil i shitstorm efter forsøg på at være sjov om sine hængebryster Forhadt socialdemokratisk kandidat er blevet reddet af teknikaliteter, mens Liberal Alliance er gået i det lumre hjørne. Velkommen til Valget Indefra. https://t.co/Ew0', 'jegomega_tseromega_tstrætomega_tsafomega_tsGoTomega_ts,omega_tsjegomega_tssynesomega_tsikkeomega_tsTyrionomega_tseromega_tssjovomega_tslængereomega_ts,omega_tsjegomega_tssynesomega_tsDaenaerysomega_tseromega_tsmegetomega_tsmindreomega_tsklogomega_tsogomega_tssejomega_tsendomega_tshunomega_tsplejedeomega_tsatomega_tsværeomega_ts,omega_tsogomega_tsjegomega_tskanomega_tsikkeomega_tskommeomega_tsmigomega_tsoveromega_tsatomega_tsTheomega_tsWhiteomega_tsWalkersomega_tsbareomega_tsvaromega_tsenomega_tsplotdeviceomega_tsforomega_tsatomega_tssætteomega_tshendeomega_tsligeligtomega_tsopomega_tsmodomega_tsCerseiomega_ts-omega_tsogomega_tsEuronomega_tssomomega_tsjegomega_tsikkeomega_tsmagteromega_ts…omega_tshttps://t.co/7l1DsA5dRGomega_ts']\n",
      "[['1/2', 'Hmmmm', 'Jeg', 'ville', 'godt', 'nok', 'have', 'det', 'stramt', ',', 'hvis', 'mit', 'barn', 'blev', 'sendt', 'hjem', 'på', 'grund', 'af', 'sådan', 'en', 't-shirt', ',', 'jeg', 'synes', 'man', 'skal', 'vælge', 'sine', 'kampe', ';-)', 'Det', 'bedste', 'var', 'enten', 'en', 'klassediskussion', 'om', 'politiet', 'osv', '..', 'eller', 'fuldkommen', 'at', 'ignorere', 'det', ',', 'jeg', 'havde', 'lavet', 'sjov', 'med', 'den', '…', 'https://t.co/b5r7LTZ0Ix'], '1/2 Hmmmm Jeg ville godt nok have det stramt, hvis mit barn blev sendt hjem på grund af sådan en t-shirt, jeg synes man skal vælge sine kampe ;-) Det bedste var enten en klassediskussion om politiet osv.. eller fuldkommen at ignorere det, jeg havde lavet sjov med den… https://t.co/b5r7LTZ0Ix\\nPan&#39;er er nede med folk uagtet køn (de fokuserer ikke på køn som en central ting af deres seksualitet). Nogle gange tror jeg, at de er en ikke-racistisk og ikke shitty version af sapiosekuelle men det vil jeg lade en pan om at forklare.… https://t.co/kSxFAbtt14\\nL', '1/2omega_tsHmmmmomega_tsJegomega_tsvilleomega_tsgodtomega_tsnokomega_tshaveomega_tsdetomega_tsstramtomega_ts,omega_tshvisomega_tsmitomega_tsbarnomega_tsblevomega_tssendtomega_tshjemomega_tspåomega_tsgrundomega_tsafomega_tssådanomega_tsenomega_tst-shirtomega_ts,omega_tsjegomega_tssynesomega_tsmanomega_tsskalomega_tsvælgeomega_tssineomega_tskampeomega_ts;-)omega_tsDetomega_tsbedsteomega_tsvaromega_tsentenomega_tsenomega_tsklassediskussionomega_tsomomega_tspolitietomega_tsosvomega_ts..omega_tselleromega_tsfuldkommenomega_tsatomega_tsignorereomega_tsdetomega_ts,omega_tsjegomega_tshavdeomega_tslavetomega_tssjovomega_tsmedomega_tsdenomega_ts…omega_tshttps://t.co/b5r7LTZ0Ixomega_ts']\n",
      "[['»', 'Jeg', 'har', 'da', 'været', 'uheldig', 'i', 'mødet', 'med', 'mænd', ',', 'og', 'de', 'har', 'også', 'været', 'uheldige', 'i', 'mødet', 'med', 'mig', '.', '«', 'Kathrine', 'Lilleør', 'er', 'ugens', 'gæst', 'hos', 'Hassan', 'Preisler', 'i', 'Det', 'næste', 'kapitel', '–', 'lyt', 'med', ',', 'de', 'første', 'episoder', 'er', 'gratis', '.', 'https://t.co/nn6jETc3x0…', 'https://t.co/n4Q70ONQQG'], '»Jeg har da været uheldig i mødet med mænd, og de har også været uheldige i mødet med mig.« Kathrine Lilleør er ugens gæst hos Hassan Preisler i Det næste kapitel – lyt med , de første episoder er gratis.  https://t.co/nn6jETc3x0… https://t.co/n4Q70ONQQG\\npokalfight, men ingen overraskelse. Middelfart slår SfB/Oure 1-0 efter forlængelse. 703 tilskuere på Høje Bøge\\nJeg havde tidligere end Toyota LC90 3,0D med automatgear som jagt/fiske/sjov og spas bil - Den var rar. Måske ikke helt miljømæssig politisk korrekt. Til gengæld havde den kørt over 400.000 km d', '»omega_tsJegomega_tsharomega_tsdaomega_tsværetomega_tsuheldigomega_tsiomega_tsmødetomega_tsmedomega_tsmændomega_ts,omega_tsogomega_tsdeomega_tsharomega_tsogsåomega_tsværetomega_tsuheldigeomega_tsiomega_tsmødetomega_tsmedomega_tsmigomega_ts.omega_ts«omega_tsKathrineomega_tsLilleøromega_tseromega_tsugensomega_tsgæstomega_tshosomega_tsHassanomega_tsPreisleromega_tsiomega_tsDetomega_tsnæsteomega_tskapitelomega_ts–omega_tslytomega_tsmedomega_ts,omega_tsdeomega_tsførsteomega_tsepisoderomega_tseromega_tsgratisomega_ts.omega_tshttps://t.co/nn6jETc3x0…omega_tshttps://t.co/n4Q70ONQQGomega_ts']\n",
      "[['70', 'dage', 'efter', '11', '.', 'september', 'vandt', 'Fogh', 'et', 'valg', ',', 'der', 'ændrede', 'dansk', 'politik', ':', '»', 'Han', 'havde', 'held', 'til', 'at', 'udnytte', 'en', 'underbevidst', 'frygt', '«', ':', 'https://t.co/k7RVHRUVKx', 'DKPolitik-nyhedsbrev', ':', 'https://t.co/MJg2eqlT8V', 'DKPolitik-overblik', ':', 'https://t.co/BczYxzIF7C…', 'https://t.co/MVbU2joXoY'], '70 dage efter 11. september vandt Fogh et valg, der ændrede dansk politik: »Han havde held til at udnytte en underbevidst frygt«: https://t.co/k7RVHRUVKx    DKPolitik-nyhedsbrev: https://t.co/MJg2eqlT8V  DKPolitik-overblik: https://t.co/BczYxzIF7C… https://t.co/MVbU2joXoY\\nHver dag skal vi læse om Unge med indvandrerbaggrund der skaber frygt....hvornår træder regeringen i karakter og udviser konsekvens . Istedet for ligegyldig snik snak om det er en ghetto eller ej. #dkpol\\nGodmorgen!  En ny dag begynder, og fuglene synger med den nye dag.  Jeg ønsker jer ', '70omega_tsdageomega_tsefteromega_ts11omega_ts.omega_tsseptemberomega_tsvandtomega_tsFoghomega_tsetomega_tsvalgomega_ts,omega_tsderomega_tsændredeomega_tsdanskomega_tspolitikomega_ts:omega_ts»omega_tsHanomega_tshavdeomega_tsheldomega_tstilomega_tsatomega_tsudnytteomega_tsenomega_tsunderbevidstomega_tsfrygtomega_ts«omega_ts:omega_tshttps://t.co/k7RVHRUVKxomega_tsDKPolitik-nyhedsbrevomega_ts:omega_tshttps://t.co/MJg2eqlT8Vomega_tsDKPolitik-overblikomega_ts:omega_tshttps://t.co/BczYxzIF7C…omega_tshttps://t.co/MVbU2joXoYomega_ts']\n",
      "[['»', 'Skidesprællere', ',', 'hængerøve', 'og', 'hundehoveder', '«', ':', 'Mikroforlag', 'anbefaler', 'sommerferiebøger', 'om', 'kærlighed', ',', 'sorg', 'og', 'død', '–', 'og', 'lidt', 'om', 'Olsen', 'Banden', 'og', 'lakridspiber', 'https://t.co/7IYhTR8xT7…', 'https://t.co/hRrpyc5PLU'], '»Skidesprællere, hængerøve og hundehoveder«: Mikroforlag anbefaler sommerferiebøger om kærlighed, sorg og død – og lidt om Olsen Banden og lakridspiber https://t.co/7IYhTR8xT7… https://t.co/hRrpyc5PLU\\n1/2 Hmmmm Jeg ville godt nok have det stramt, hvis mit barn blev sendt hjem på grund af sådan en t-shirt, jeg synes man skal vælge sine kampe ;-) Det bedste var enten en klassediskussion om politiet osv.. eller fuldkommen at ignorere det, jeg havde lavet sjov med den… https://t.co/b5r7LTZ0Ix\\nPan&#39;er er nede med folk uagtet køn (de fokuserer ikke på køn s', '»omega_tsSkidesprællereomega_ts,omega_tshængerøveomega_tsogomega_tshundehovederomega_ts«omega_ts:omega_tsMikroforlagomega_tsanbefaleromega_tssommerferiebøgeromega_tsomomega_tskærlighedomega_ts,omega_tssorgomega_tsogomega_tsdødomega_ts–omega_tsogomega_tslidtomega_tsomomega_tsOlsenomega_tsBandenomega_tsogomega_tslakridspiberomega_tshttps://t.co/7IYhTR8xT7…omega_tshttps://t.co/hRrpyc5PLUomega_ts']\n",
      "[['👌', '🏻', 'Jeg', 'har', 'haft', 'en', 'sjov', 'rejse', 'med', 'ham', '.', 'Faldt', 'ikke', 'i', 'min', 'smag', '.', 'Syntes', 'ikke', 'hans', 'karikerede', 'stemmer', 'var', 'særligt', 'gennemførste', '.', 'Udspillede', 'øjne', '.', 'Så', 'over', 'tid', '.', 'Nogle', 'klip', 'og', 'en', 'special', 'senere', '.', 'Nu', 'griner', 'jeg', 'bare', 'han', 'svinger', 'med', 'håret', '😄', '(', 'Keanu', 'Reeves-joke', 'var', 'jeg', 'flad', 'over', ')', '…', 'https://t.co/caNy269aIh'], '👌🏻  Jeg har haft en sjov rejse med ham. Faldt ikke i min smag. Syntes ikke hans karikerede stemmer var særligt gennemførste. Udspillede øjne.    Så over tid. Nogle klip og en special senere.    Nu griner jeg bare han svinger med håret 😄  (Keanu Reeves-joke var jeg flad over)… https://t.co/caNy269aIh\\nDet er en sjov diskussion, men man kan vel skæve lidt til DFs skæbne, hvis man vil se hvad der sker med partier, som indleder sig på lidt for tæt samarbejde med modstanderen ...… https://t.co/xUSLBAxVdS\\nmangen søvnløs Nat laae ei\\nBrøndby har spillet europæisk', '👌omega_ts🏻omega_tsJegomega_tsharomega_tshaftomega_tsenomega_tssjovomega_tsrejseomega_tsmedomega_tshamomega_ts.omega_tsFaldtomega_tsikkeomega_tsiomega_tsminomega_tssmagomega_ts.omega_tsSyntesomega_tsikkeomega_tshansomega_tskarikeredeomega_tsstemmeromega_tsvaromega_tssærligtomega_tsgennemførsteomega_ts.omega_tsUdspilledeomega_tsøjneomega_ts.omega_tsSåomega_tsoveromega_tstidomega_ts.omega_tsNogleomega_tsklipomega_tsogomega_tsenomega_tsspecialomega_tssenereomega_ts.omega_tsNuomega_tsgrineromega_tsjegomega_tsbareomega_tshanomega_tssvingeromega_tsmedomega_tshåretomega_ts😄omega_ts(omega_tsKeanuomega_tsReeves-jokeomega_tsvaromega_tsjegomega_tsfladomega_tsoveromega_ts)omega_ts…omega_tshttps://t.co/caNy269aIhomega_ts']\n",
      "[['😊', 'Jeg', 'får', 'det', 'stramt', 'af', 'Kvindernes', 'Kampdag', 'og', 'Pride', 'fordi', 'dagene', 'minder', 'mig', 'om', 'hvad', 'jeg', 'har', 'imod', 'mig', 'på', 'samme', 'tid', 'med', 'at', 'jeg', 'føler', 'mig', 'fremmedgjort', 'i', 'sagernes', 'kernespaces', 'og', 'intet', 'slår', 'den', 'ensomhed', 'man', 'kan', 'føle', 'steder', 'hvor', 'man', 'burde', 'høre', 'til', 'men', 'ikke', 'gør', 'det', 'her', 'er', 'en', 'sjov', 'GIF', '…', 'https://t.co/l4BR2oqzlY'], '😊 Jeg får det stramt af Kvindernes Kampdag og Pride fordi dagene minder mig om hvad jeg har imod mig på samme tid med at jeg føler mig fremmedgjort i sagernes kernespaces og intet slår den ensomhed man kan føle steder hvor man burde høre til men ikke gør det her er en sjov GIF… https://t.co/l4BR2oqzlY\\nUd over det, så er den adfærd mange brugere udviser, er et trafiksikkerhedsproblem. Jo yngre brugerene blir, -jo værre bliver sikkerheden, for omgivelserne og brugeren selv. Men forstår godt hvorfor, de kan være sjov at køre på. De bidrager bare ikke med no', '😊omega_tsJegomega_tsfåromega_tsdetomega_tsstramtomega_tsafomega_tsKvindernesomega_tsKampdagomega_tsogomega_tsPrideomega_tsfordiomega_tsdageneomega_tsminderomega_tsmigomega_tsomomega_tshvadomega_tsjegomega_tsharomega_tsimodomega_tsmigomega_tspåomega_tssammeomega_tstidomega_tsmedomega_tsatomega_tsjegomega_tsføleromega_tsmigomega_tsfremmedgjortomega_tsiomega_tssagernesomega_tskernespacesomega_tsogomega_tsintetomega_tsslåromega_tsdenomega_tsensomhedomega_tsmanomega_tskanomega_tsføleomega_tsstederomega_tshvoromega_tsmanomega_tsburdeomega_tshøreomega_tstilomega_tsmenomega_tsikkeomega_tsgøromega_tsdetomega_tsheromega_tseromega_tsenomega_tssjovomega_tsGIFomega_ts…omega_tshttps://t.co/l4BR2oqzlYomega_ts']\n"
     ]
    }
   ],
   "source": [
    "cut_matches=[]\n",
    "for j in matches:\n",
    "    if j[1]!= 'nothing found':\n",
    "        try:\n",
    "            cut_matches.append([j[2],cut_thing(j)])\n",
    "        except:\n",
    "            print(j)"
   ]
  },
  {
   "cell_type": "code",
   "execution_count": 12,
   "id": "fbb94c10",
   "metadata": {},
   "outputs": [],
   "source": [
    "col1=[]\n",
    "col2=[]\n",
    "for i in cut_matches:\n",
    "    col1.append(i[1])\n",
    "    col2.append(i[0])\n",
    "matched_df=pd.DataFrame([col1,col2])\n",
    "matched_df=matched_df.T\n",
    "matched_df.columns=['Original','Tokenized']"
   ]
  },
  {
   "cell_type": "code",
   "execution_count": 13,
   "id": "67fee8bf",
   "metadata": {},
   "outputs": [],
   "source": [
    "matched_df.to_csv(os.getcwd()[:-8]+'matched/matched_da.csv',index=False)"
   ]
  },
  {
   "cell_type": "code",
   "execution_count": 15,
   "id": "21a5f2c1",
   "metadata": {},
   "outputs": [
    {
     "data": {
      "text/html": [
       "<div>\n",
       "<style scoped>\n",
       "    .dataframe tbody tr th:only-of-type {\n",
       "        vertical-align: middle;\n",
       "    }\n",
       "\n",
       "    .dataframe tbody tr th {\n",
       "        vertical-align: top;\n",
       "    }\n",
       "\n",
       "    .dataframe thead th {\n",
       "        text-align: right;\n",
       "    }\n",
       "</style>\n",
       "<table border=\"1\" class=\"dataframe\">\n",
       "  <thead>\n",
       "    <tr style=\"text-align: right;\">\n",
       "      <th></th>\n",
       "      <th>Original</th>\n",
       "      <th>Tokenized</th>\n",
       "    </tr>\n",
       "  </thead>\n",
       "  <tbody>\n",
       "    <tr>\n",
       "      <th>0</th>\n",
       "      <td>ja, det er det bøb.</td>\n",
       "      <td>jaomega_ts,omega_tsdetomega_tseromega_tsdetome...</td>\n",
       "    </tr>\n",
       "    <tr>\n",
       "      <th>1</th>\n",
       "      <td>\\- dette er starten pa 3.verdenskrig, adolf hi...</td>\n",
       "      <td>\\omega_ts-omega_tsdetteomega_tseromega_tsstart...</td>\n",
       "    </tr>\n",
       "    <tr>\n",
       "      <th>2</th>\n",
       "      <td>skriv hvad dit svar er i kommentartingen.d;  -...</td>\n",
       "      <td>skrivomega_tshvadomega_tsditomega_tssvaromega_...</td>\n",
       "    </tr>\n",
       "    <tr>\n",
       "      <th>3</th>\n",
       "      <td>-en mand der hedder goergh bush.</td>\n",
       "      <td>-omega_tsenomega_tsmandomega_tsderomega_tshedd...</td>\n",
       "    </tr>\n",
       "    <tr>\n",
       "      <th>4</th>\n",
       "      <td>vaelg vilken farve underbukser du har pa..hvid...</td>\n",
       "      <td>vaelgomega_tsvilkenomega_tsfarveomega_tsunderb...</td>\n",
       "    </tr>\n",
       "    <tr>\n",
       "      <th>...</th>\n",
       "      <td>...</td>\n",
       "      <td>...</td>\n",
       "    </tr>\n",
       "    <tr>\n",
       "      <th>208</th>\n",
       "      <td>&amp;' .. sa kan det godt vaere at det lyder meget...</td>\n",
       "      <td>&amp;omega_ts'omega_ts..omega_tssaomega_tskanomega...</td>\n",
       "    </tr>\n",
       "    <tr>\n",
       "      <th>209</th>\n",
       "      <td>man laerer af sine fejl &amp; udvikler sig deraf.</td>\n",
       "      <td>manomega_tslaereromega_tsafomega_tssineomega_t...</td>\n",
       "    </tr>\n",
       "    <tr>\n",
       "      <th>210</th>\n",
       "      <td>&amp; ja, jeg har det med at vaere hudløst aerlig.</td>\n",
       "      <td>&amp;omega_tsjaomega_ts,omega_tsjegomega_tsharomeg...</td>\n",
       "    </tr>\n",
       "    <tr>\n",
       "      <th>211</th>\n",
       "      <td>kunne seriøst ikk' ha' sagt det bedre selv '!</td>\n",
       "      <td>kunneomega_tsseriøstomega_tsikkomega_ts'omega_...</td>\n",
       "    </tr>\n",
       "    <tr>\n",
       "      <th>212</th>\n",
       "      <td>sa kan de sku' laerer det '!</td>\n",
       "      <td>saomega_tskanomega_tsdeomega_tsskuomega_ts'ome...</td>\n",
       "    </tr>\n",
       "  </tbody>\n",
       "</table>\n",
       "<p>213 rows × 2 columns</p>\n",
       "</div>"
      ],
      "text/plain": [
       "                                              Original  \\\n",
       "0                                  ja, det er det bøb.   \n",
       "1    \\- dette er starten pa 3.verdenskrig, adolf hi...   \n",
       "2    skriv hvad dit svar er i kommentartingen.d;  -...   \n",
       "3                     -en mand der hedder goergh bush.   \n",
       "4    vaelg vilken farve underbukser du har pa..hvid...   \n",
       "..                                                 ...   \n",
       "208  &' .. sa kan det godt vaere at det lyder meget...   \n",
       "209      man laerer af sine fejl & udvikler sig deraf.   \n",
       "210     & ja, jeg har det med at vaere hudløst aerlig.   \n",
       "211      kunne seriøst ikk' ha' sagt det bedre selv '!   \n",
       "212                       sa kan de sku' laerer det '!   \n",
       "\n",
       "                                             Tokenized  \n",
       "0    jaomega_ts,omega_tsdetomega_tseromega_tsdetome...  \n",
       "1    \\omega_ts-omega_tsdetteomega_tseromega_tsstart...  \n",
       "2    skrivomega_tshvadomega_tsditomega_tssvaromega_...  \n",
       "3    -omega_tsenomega_tsmandomega_tsderomega_tshedd...  \n",
       "4    vaelgomega_tsvilkenomega_tsfarveomega_tsunderb...  \n",
       "..                                                 ...  \n",
       "208  &omega_ts'omega_ts..omega_tssaomega_tskanomega...  \n",
       "209  manomega_tslaereromega_tsafomega_tssineomega_t...  \n",
       "210  &omega_tsjaomega_ts,omega_tsjegomega_tsharomeg...  \n",
       "211  kunneomega_tsseriøstomega_tsikkomega_ts'omega_...  \n",
       "212  saomega_tskanomega_tsdeomega_tsskuomega_ts'ome...  \n",
       "\n",
       "[213 rows x 2 columns]"
      ]
     },
     "execution_count": 15,
     "metadata": {},
     "output_type": "execute_result"
    }
   ],
   "source": [
    "matched_df"
   ]
  },
  {
   "cell_type": "code",
   "execution_count": 17,
   "id": "fd650f2f",
   "metadata": {},
   "outputs": [
    {
     "name": "stdout",
     "output_type": "stream",
     "text": [
      "3430\n"
     ]
    }
   ],
   "source": [
    "count=0\n",
    "for i in matched_df.iterrows():\n",
    "    for j in i[1]['Tokenized'].split('omega_ts')[:-1]:\n",
    "        count+=1\n",
    "print(count)"
   ]
  }
 ],
 "metadata": {
  "kernelspec": {
   "display_name": "Python 3",
   "language": "python",
   "name": "python3"
  },
  "language_info": {
   "codemirror_mode": {
    "name": "ipython",
    "version": 3
   },
   "file_extension": ".py",
   "mimetype": "text/x-python",
   "name": "python",
   "nbconvert_exporter": "python",
   "pygments_lexer": "ipython3",
   "version": "3.8.10"
  },
  "varInspector": {
   "cols": {
    "lenName": 16,
    "lenType": 16,
    "lenVar": 40
   },
   "kernels_config": {
    "python": {
     "delete_cmd_postfix": "",
     "delete_cmd_prefix": "del ",
     "library": "var_list.py",
     "varRefreshCmd": "print(var_dic_list())"
    },
    "r": {
     "delete_cmd_postfix": ") ",
     "delete_cmd_prefix": "rm(",
     "library": "var_list.r",
     "varRefreshCmd": "cat(var_dic_list()) "
    }
   },
   "types_to_exclude": [
    "module",
    "function",
    "builtin_function_or_method",
    "instance",
    "_Feature"
   ],
   "window_display": false
  }
 },
 "nbformat": 4,
 "nbformat_minor": 5
}
