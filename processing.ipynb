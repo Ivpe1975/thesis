{
 "cells": [
  {
   "cell_type": "code",
   "execution_count": 8,
   "id": "d510cdd0",
   "metadata": {},
   "outputs": [],
   "source": [
    "import pandas as pd\n",
    "import os"
   ]
  },
  {
   "cell_type": "code",
   "execution_count": 5,
   "id": "e285aaf8",
   "metadata": {},
   "outputs": [],
   "source": [
    "langs=['es','sr','sl','hr','da','en','ir','it']\n",
    "\n",
    "def lower_case(text):\n",
    "    new_text=''\n",
    "    for i in text:\n",
    "        if i.isupper():\n",
    "            new_text=new_text+i.lower()\n",
    "        else:\n",
    "            new_text=new_text+i\n",
    "    return new_text"
   ]
  },
  {
   "cell_type": "code",
   "execution_count": 10,
   "id": "feb53a38",
   "metadata": {},
   "outputs": [],
   "source": [
    "#remove existing files\n",
    "for i in os.listdir(os.getcwd()+'/machamp/data/'):\n",
    "    os.remove(os.getcwd()+'/machamp/data/'+i)"
   ]
  },
  {
   "cell_type": "code",
   "execution_count": 7,
   "id": "48495099",
   "metadata": {},
   "outputs": [],
   "source": [
    "#This makes conllu type files so that you can train the model\n",
    "for lang in langs:\n",
    "    line_counter=0\n",
    "    data=pd.read_csv('/matched/matched_{}.csv'.format(lang))\n",
    "    eval_len=round(len(data)*0.4)\n",
    "    train_len=len(data)-eval_len\n",
    "    ftype='train'\n",
    "    for line in data.iterrows():\n",
    "        if line_counter>train_len:\n",
    "            ftype='eval'\n",
    "        file2=open(os.getcwd()+'/machamp/data/multi_conl.{}'.format(ftype),'a')\n",
    "        file=open(os.getcwd()+'/machamp/data/{}_conl.{}'.format(lang,ftype),'a')\n",
    "        counter=0\n",
    "        file.write('# sent_id = 1')\n",
    "        file.write('\\n')\n",
    "        file2.write('# sent_id = 1')\n",
    "        file2.write('\\n')\n",
    "        text=line[1]['Original']\n",
    "        if lang=='es':\n",
    "            text = lower_case(text)\n",
    "        file.write('# text = {}'.format(text))\n",
    "        file.write('\\n')\n",
    "        file2.write('# text = {}'.format(text))\n",
    "        file2.write('\\n')\n",
    "        for token in line[1]['Tokenized'].split('omega_ts'):\n",
    "            counter+=1\n",
    "            if token!='':\n",
    "                file.write(str(counter))\n",
    "                file.write('\\t')\n",
    "                file.write(token)\n",
    "                file.write('\\n')\n",
    "                file2.write(str(counter))\n",
    "                file2.write('\\t')\n",
    "                file2.write(token)\n",
    "                file2.write('\\n')\n",
    "        line_counter+=1\n",
    "        file.write('\\n')\n",
    "        file2.write('\\n')\n",
    "\n",
    "        file.close()\n",
    "        file2.close()\n"
   ]
  }
 ],
 "metadata": {
  "kernelspec": {
   "display_name": "Python 3",
   "language": "python",
   "name": "python3"
  },
  "language_info": {
   "codemirror_mode": {
    "name": "ipython",
    "version": 3
   },
   "file_extension": ".py",
   "mimetype": "text/x-python",
   "name": "python",
   "nbconvert_exporter": "python",
   "pygments_lexer": "ipython3",
   "version": "3.8.10"
  },
  "varInspector": {
   "cols": {
    "lenName": 16,
    "lenType": 16,
    "lenVar": 40
   },
   "kernels_config": {
    "python": {
     "delete_cmd_postfix": "",
     "delete_cmd_prefix": "del ",
     "library": "var_list.py",
     "varRefreshCmd": "print(var_dic_list())"
    },
    "r": {
     "delete_cmd_postfix": ") ",
     "delete_cmd_prefix": "rm(",
     "library": "var_list.r",
     "varRefreshCmd": "cat(var_dic_list()) "
    }
   },
   "types_to_exclude": [
    "module",
    "function",
    "builtin_function_or_method",
    "instance",
    "_Feature"
   ],
   "window_display": false
  }
 },
 "nbformat": 4,
 "nbformat_minor": 5
}
